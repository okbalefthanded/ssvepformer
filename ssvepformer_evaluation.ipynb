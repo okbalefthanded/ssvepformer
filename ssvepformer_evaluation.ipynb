{
  "cells": [
    {
      "cell_type": "markdown",
      "metadata": {
        "id": "tS6CbhmEv84f"
      },
      "source": [
        "# Imports"
      ]
    },
    {
      "cell_type": "code",
      "execution_count": 53,
      "metadata": {
        "colab": {
          "base_uri": "https://localhost:8080/"
        },
        "id": "Nv2ie8R1v-QW",
        "outputId": "6810a533-6377-44ad-a211-1d190f46fb6c"
      },
      "outputs": [
        {
          "data": {
            "text/plain": [
              "<torch._C.Generator at 0x7f159c4bb6d0>"
            ]
          },
          "execution_count": 53,
          "metadata": {},
          "output_type": "execute_result"
        }
      ],
      "source": [
        "import os\n",
        "import glob\n",
        "import random\n",
        "import numpy as np\n",
        "\n",
        "from scipy.signal import butter, filtfilt\n",
        "from scipy.io import loadmat\n",
        "import torch\n",
        "\n",
        "# set seed\n",
        "seed = 42\n",
        "\n",
        "np.random.seed(seed)\n",
        "random.seed(seed)\n",
        "torch.manual_seed(seed)"
      ]
    },
    {
      "cell_type": "markdown",
      "metadata": {
        "id": "Nar2_eP3wMGe"
      },
      "source": [
        "# Prepare Data"
      ]
    },
    {
      "cell_type": "markdown",
      "metadata": {
        "id": "Xg8dyDRkwNpe"
      },
      "source": [
        "## Download dataset"
      ]
    },
    {
      "cell_type": "code",
      "execution_count": 2,
      "metadata": {
        "colab": {
          "base_uri": "https://localhost:8080/"
        },
        "id": "cWixRzhrwRIC",
        "outputId": "844601bc-887a-48ec-f917-c0054f5b83cd"
      },
      "outputs": [
        {
          "name": "stdout",
          "output_type": "stream",
          "text": [
            "  % Total    % Received % Xferd  Average Speed   Time    Time     Time  Current\n",
            "                                 Dload  Upload   Total   Spent    Left  Speed\n",
            "100  145M  100  145M    0     0  76.2M      0  0:00:01  0:00:01 --:--:-- 76.1M\n",
            "Archive:  cca_ssvep.zip\n",
            "   creating: cca_ssvep/\n",
            "  inflating: cca_ssvep/s4.mat        \n",
            "  inflating: cca_ssvep/s5.mat        \n",
            "  inflating: cca_ssvep/s3.mat        \n",
            "  inflating: cca_ssvep/s7.mat        \n",
            "  inflating: cca_ssvep/chan_locs.pdf  \n",
            "  inflating: cca_ssvep/readme.txt    \n",
            "  inflating: cca_ssvep/s2.mat        \n",
            "  inflating: cca_ssvep/s8.mat        \n",
            "  inflating: cca_ssvep/s10.mat       \n",
            "  inflating: cca_ssvep/s9.mat        \n",
            "  inflating: cca_ssvep/s6.mat        \n",
            "  inflating: cca_ssvep/s1.mat        \n"
          ]
        }
      ],
      "source": [
        "## Download and extract DataSet\n",
        "### Nakanishi et. al 2015\n",
        "!curl -O https://sccn.ucsd.edu/download/cca_ssvep.zip\n",
        "!unzip cca_ssvep.zip"
      ]
    },
    {
      "cell_type": "markdown",
      "metadata": {
        "id": "QSif6Y2swY2q"
      },
      "source": [
        "## Pre-processing"
      ]
    },
    {
      "cell_type": "code",
      "execution_count": 3,
      "metadata": {
        "id": "Og4Scc69v0GO"
      },
      "outputs": [],
      "source": [
        "# Pre-Processing\n",
        "def segment_eeg(folder, elecs=None, fs=256, duration=1., band=[5., 45.], order=4, onset=0.135):\n",
        "  eeg_files = glob.glob(f\"{data_folder}/*.mat\")\n",
        "  n_subejects = len(eeg_files)\n",
        "  onset = 38 + int(onset*fs)\n",
        "  end = int(duration*fs)\n",
        "  X , Y = [], [] # empty data and labels\n",
        "  for record in eeg_files:\n",
        "    data = loadmat(record)\n",
        "    # samples, channels, trials, targets\n",
        "    eeg = data[\"eeg\"].transpose((2, 1, 3, 0))\n",
        "    # filter data\n",
        "    eeg = filter_eeg(eeg, fs=fs, band=band, order=order)\n",
        "    # segment data\n",
        "    eeg = eeg[onset:onset+end, :, :, :]\n",
        "    samples, channels, blocks, targets = eeg.shape\n",
        "    y = np.tile(np.arange(1, targets + 1), (blocks, 1))\n",
        "    y = y.reshape((1, blocks * targets), order='F')\n",
        "\n",
        "    X.append(eeg.reshape((samples, channels, blocks * targets), order='F'))\n",
        "    Y.append(y)\n",
        "\n",
        "  X = np.array(X, dtype=np.float32, order=\"F\")\n",
        "  Y = np.array(Y, dtype=np.float32).squeeze()\n",
        "\n",
        "  return X, Y\n",
        "\n",
        "def filter_eeg(data, fs=256, band=[5., 45.], order=4):\n",
        "  B, A = butter(order, np.array(band) / (fs / 2), btype='bandpass')\n",
        "  return filtfilt(B, A, data, axis=0)"
      ]
    },
    {
      "cell_type": "markdown",
      "metadata": {
        "id": "d_QLu_GIwpoS"
      },
      "source": [
        "# Evaluation"
      ]
    },
    {
      "cell_type": "markdown",
      "metadata": {
        "id": "PUQKT6tTwrK-"
      },
      "source": [
        "## Segment data into epochs"
      ]
    },
    {
      "cell_type": "code",
      "execution_count": 4,
      "metadata": {
        "colab": {
          "base_uri": "https://localhost:8080/"
        },
        "id": "VYLjycbRwc3i",
        "outputId": "334b9d12-24c1-4b65-a9d2-3b910a5cded5"
      },
      "outputs": [
        {
          "name": "stdout",
          "output_type": "stream",
          "text": [
            "X shape: (10, 256, 8, 180)\n",
            "Y shape: (10, 180)\n"
          ]
        }
      ],
      "source": [
        "data_folder = os.path.abspath('./cca_ssvep')\n",
        "band = [8, 64]\n",
        "order = 4\n",
        "fs = 256\n",
        "duration = 1.\n",
        "\n",
        "X, Y = segment_eeg(data_folder, band=band, order=order, fs=fs, duration=duration)\n",
        "print(f\"X shape: {X.shape}\") # subject x samples x channels x trials\n",
        "print(f\"Y shape: {Y.shape}\")"
      ]
    },
    {
      "cell_type": "markdown",
      "metadata": {
        "id": "3XdrU_kmwtlS"
      },
      "source": [
        "## Define Model"
      ]
    },
    {
      "cell_type": "code",
      "execution_count": 5,
      "metadata": {
        "id": "icZUf4TgwvAc"
      },
      "outputs": [],
      "source": [
        "from torch import flatten\n",
        "from torch import nn\n",
        "import torch.nn.functional as F\n",
        "\n",
        "class ChComb(nn.Module):\n",
        "  def __init__(self, Chans=8, Samples=220, dropout=0.5):\n",
        "    super().__init__()\n",
        "    self.conv = nn.Conv1d(Chans // 2, Chans, 1, padding='same')\n",
        "    self.ln   = nn.LayerNorm(Samples)\n",
        "    self.act  = nn.GELU()\n",
        "    self.do   = nn.Dropout(p=dropout)\n",
        "\n",
        "  def forward(self, x):\n",
        "    return self.do(self.act(self.ln(self.conv(x))))\n",
        "\n",
        "class Encoder(nn.Module):\n",
        "  def __init__(self, Chans=16, Samples=220, dropout=0.5):\n",
        "    super().__init__()\n",
        "    # CNN module\n",
        "    self.channels = Chans\n",
        "    self.ln1  = nn.LayerNorm(Samples)\n",
        "    self.conv = nn.Conv1d(Chans, Chans, 31, padding='same')\n",
        "    self.ln2  = nn.LayerNorm(Samples)\n",
        "    self.act  = nn.GELU()\n",
        "    self.do   = nn.Dropout(p=dropout)\n",
        "    # MLP module\n",
        "    self.ln3  = nn.LayerNorm(Samples)\n",
        "    self.proj = nn.Linear(Chans, Samples)\n",
        "    self.do2  = nn.Dropout(p=dropout)\n",
        "\n",
        "  def forward(self, x):\n",
        "    #\n",
        "    shortcut1 = x\n",
        "    x = self.conv(self.ln1(x))\n",
        "    x = self.act(self.ln2(x))\n",
        "    x = self.do(x) + shortcut1\n",
        "    shortcut2 = x\n",
        "    #\n",
        "    x = self.ln3(x)\n",
        "    output_channels = []\n",
        "    for i in range(self.channels):\n",
        "      c = self.proj(x[:,:,i])\n",
        "      c = c.unsqueeze(1)\n",
        "      output_channels.append(c)\n",
        "    x = torch.cat(output_channels, 1)\n",
        "    x = self.do(x) + shortcut2\n",
        "    return x\n",
        "\n",
        "class MlpHead(nn.Module):\n",
        "  def __init__(self, Chans, Samples, n_classes, drop_rate=0.5):\n",
        "    super().__init__()\n",
        "    self.drop       = nn.Dropout(drop_rate)\n",
        "    self.linear1    = nn.Linear(Chans * Samples, 6 * n_classes)\n",
        "    self.norm       = nn.LayerNorm(6*n_classes)\n",
        "    self.activation = nn.GELU()\n",
        "    self.drop2      = nn.Dropout(drop_rate)\n",
        "    self.linear2    = nn.Linear(6*n_classes, n_classes)\n",
        "\n",
        "  def forward(self, x):\n",
        "    x = flatten(x, 1)\n",
        "    x = self.drop(x)\n",
        "    x = self.linear1(x)\n",
        "    x = self.norm(x)\n",
        "    x = self.activation(x)\n",
        "    x = self.drop2(x)\n",
        "    x = self.linear2(x)\n",
        "    return x\n",
        "\n",
        "class SSVEPFormerTH(nn.Module):\n",
        "  def __init__(self, Chans=8, n_classes=12, fs=256,\n",
        "               band=[8, 64], resolution=0.25,\n",
        "               drop_rate=0.25):\n",
        "    super().__init__()\n",
        "    self.name = \"SSVEPFORMER\"\n",
        "    self.fs = fs\n",
        "    self.resolution = resolution\n",
        "    self.nfft  = round(fs / resolution)\n",
        "    self.fft_start = int(round(band[0] / self.resolution))\n",
        "    self.fft_end   = int(round(band[1] / self.resolution)) + 1\n",
        "    samples = (self.fft_end - self.fft_start) * 2\n",
        "    filters = 2*Chans\n",
        "\n",
        "    self.channel_comb = ChComb(filters,  samples, drop_rate)\n",
        "    self.encoder1     = Encoder(filters, samples, drop_rate)\n",
        "    self.encoder2     = Encoder(filters, samples, drop_rate)\n",
        "    self.head         = MlpHead(filters, samples, n_classes, drop_rate)\n",
        "\n",
        "    self.init_weights()\n",
        "\n",
        "  def init_weights(self):\n",
        "    for module in self.modules():\n",
        "        if hasattr(module, 'weight'):\n",
        "          cls_name = module.__class__.__name__\n",
        "          if not(\"BatchNorm\" in cls_name or \"LayerNorm\" in cls_name):\n",
        "            nn.init.normal_(module.weight, mean=0.0, std=0.01)\n",
        "          else:\n",
        "            nn.init.constant_(module.weight, 1)\n",
        "          if hasattr(module, \"bias\"):\n",
        "            if module.bias is not None:\n",
        "              nn.init.constant_(module.bias, 0)\n",
        "\n",
        "  def forward(self, x):\n",
        "    x = self.transform(x)\n",
        "    x = self.channel_comb(x)\n",
        "    x = self.encoder1(x)\n",
        "    x = self.encoder2(x)\n",
        "    x = self.head(x)\n",
        "    return x\n",
        "\n",
        "  def transform(self, x):\n",
        "    with torch.no_grad():\n",
        "      samples = x.shape[-1]\n",
        "      x = torch.fft.fft(x, n=self.nfft) / samples\n",
        "      real = x.real[:,:, self.fft_start:self.fft_end]\n",
        "      imag = x.imag[:,:, self.fft_start:self.fft_end]\n",
        "      x = torch.cat((real, imag), axis=-1)\n",
        "    return x\n"
      ]
    },
    {
      "cell_type": "markdown",
      "metadata": {
        "id": "Vt6Z2uavxsye"
      },
      "source": [
        "## Utils for training"
      ]
    },
    {
      "cell_type": "code",
      "execution_count": 7,
      "metadata": {
        "id": "uSfgiU4DzQaQ"
      },
      "outputs": [],
      "source": [
        "def make_loader(x, y, batch_size=32, shuffle=True):\n",
        "    \"\"\"\n",
        "    \"\"\"\n",
        "    tensor_set = torch.utils.data.TensorDataset(torch.tensor(x, dtype=torch.float32),\n",
        "                                                torch.tensor(y, dtype=torch.long))\n",
        "    loader = torch.utils.data.DataLoader(tensor_set,\n",
        "                                         batch_size=batch_size,\n",
        "                                         shuffle=shuffle)\n",
        "    return loader"
      ]
    },
    {
      "cell_type": "code",
      "execution_count": 50,
      "metadata": {
        "id": "W2ofx5TGynth"
      },
      "outputs": [],
      "source": [
        "# Basic Pytorch training loop\n",
        "# https://pytorch.org/tutorials/beginner/basics/quickstart_tutorial.html\n",
        "\n",
        "def train(dataloader, model, loss_fn, optimizer, epochs):\n",
        "    size = len(dataloader.dataset)\n",
        "    model.to(device)\n",
        "    model.train()\n",
        "    for epoch in range(epochs):\n",
        "        for batch, (X, y) in enumerate(dataloader):\n",
        "            X, y = X.to(device), y.to(device)\n",
        "            optimizer.zero_grad()\n",
        "            # Compute prediction error\n",
        "            pred = model(X)\n",
        "            loss = loss_fn(pred, y)\n",
        "\n",
        "            # Backpropagation\n",
        "            loss.backward()\n",
        "            optimizer.step()\n",
        "\n",
        "            if batch % 100 == 0:\n",
        "                loss, current = loss.item(), (batch + 1) * len(X)\n",
        "\n",
        "def test(dataloader, model, loss_fn):\n",
        "    size = len(dataloader.dataset)\n",
        "    num_batches = len(dataloader)\n",
        "    model.eval()\n",
        "    test_loss, correct = 0, 0\n",
        "    with torch.no_grad():\n",
        "        for X, y in dataloader:\n",
        "            X, y = X.to(device), y.to(device)\n",
        "            pred = model(X)\n",
        "            test_loss += loss_fn(pred, y).item()\n",
        "            correct += (pred.argmax(1) == y).type(torch.float).sum().item()\n",
        "    test_loss /= num_batches\n",
        "    correct /= size\n",
        "    return 100*correct"
      ]
    },
    {
      "cell_type": "code",
      "execution_count": 24,
      "metadata": {
        "id": "pORsiiAMxPRe"
      },
      "outputs": [],
      "source": [
        "def concatenate_subjects(x, y, fold):\n",
        "  X = np.concatenate([x[idx] for idx in fold], axis=-1)\n",
        "  Y = np.concatenate([y[idx] for idx in fold], axis=-1)\n",
        "  X  = X.transpose((2,1,0))\n",
        "  return X, Y - 1"
      ]
    },
    {
      "cell_type": "markdown",
      "metadata": {
        "id": "s7HTFLovxvvp"
      },
      "source": [
        "## Training and testing"
      ]
    },
    {
      "cell_type": "code",
      "execution_count": 51,
      "metadata": {
        "id": "5id4uL6d0swG"
      },
      "outputs": [],
      "source": [
        "# Training settings\n",
        "BATCH_SIZE = 128\n",
        "EPOCHS = 100\n",
        "LR = 0.001\n",
        "WD = 0.001\n",
        "DROP_RATE = 0.5\n",
        "\n",
        "channels  = 8\n",
        "n_classes = 12\n",
        "fft_resolution = 0.25\n",
        "device = \"cuda\" if torch.cuda.is_available() else \"cpu\""
      ]
    },
    {
      "cell_type": "code",
      "execution_count": 55,
      "metadata": {
        "colab": {
          "base_uri": "https://localhost:8080/"
        },
        "id": "H_dWkkGXxWoW",
        "outputId": "9647f0f3-60bd-4c6f-a52a-33a8b9e2f489"
      },
      "outputs": [
        {
          "name": "stdout",
          "output_type": "stream",
          "text": [
            "Subject: 1 Training...\n",
            "Subhject 1 Accuracy: [87.77777778]\n",
            "-------------------------------\n",
            "Subject: 2 Training...\n",
            "Subhject 2 Accuracy: [97.77777778]\n",
            "-------------------------------\n",
            "Subject: 3 Training...\n",
            "Subhject 3 Accuracy: [96.11111111]\n",
            "-------------------------------\n",
            "Subject: 4 Training...\n",
            "Subhject 4 Accuracy: [95.]\n",
            "-------------------------------\n",
            "Subject: 5 Training...\n",
            "Subhject 5 Accuracy: [56.11111111]\n",
            "-------------------------------\n",
            "Subject: 6 Training...\n",
            "Subhject 6 Accuracy: [56.66666667]\n",
            "-------------------------------\n",
            "Subject: 7 Training...\n",
            "Subhject 7 Accuracy: [94.44444444]\n",
            "-------------------------------\n",
            "Subject: 8 Training...\n",
            "Subhject 8 Accuracy: [97.22222222]\n",
            "-------------------------------\n",
            "Subject: 9 Training...\n",
            "Subhject 9 Accuracy: [66.11111111]\n",
            "-------------------------------\n",
            "Subject: 10 Training...\n",
            "Subhject 10 Accuracy: [98.88888889]\n",
            "-------------------------------\n",
            "Mean Accuracy: 84.61111111111111 +- 16.788535918048506\n"
          ]
        }
      ],
      "source": [
        "acc = np.zeros((10, 1))\n",
        "\n",
        "for subject in range(0, 10):\n",
        "    print(f\"Subject: {subject + 1} Training...\")\n",
        "\n",
        "    folds = np.delete(np.arange(10), subject)\n",
        "    train_index = folds\n",
        "    test_index  = [subject]\n",
        "\n",
        "    # create data split for each subject\n",
        "    x_train, y_train = concatenate_subjects(X, Y, train_index)\n",
        "    x_val, y_val     = concatenate_subjects(X, Y, test_index)\n",
        "\n",
        "    # Create data loaders.\n",
        "    train_dataloader = make_loader(x_train, y_train, batch_size=BATCH_SIZE, shuffle=True)\n",
        "    test_dataloader  = make_loader(x_val, y_val, batch_size=BATCH_SIZE)\n",
        "\n",
        "    # create model\n",
        "    model = SSVEPFormerTH(Chans=channels,\n",
        "                           n_classes=n_classes,\n",
        "                           fs=fs,\n",
        "                           band=band,\n",
        "                           resolution=fft_resolution,\n",
        "                           drop_rate=DROP_RATE)\n",
        "    model.init_weights()\n",
        "\n",
        "\n",
        "    optimizer = torch.optim.SGD(model.parameters(),\n",
        "                                lr=LR,\n",
        "                                momentum=0.9,\n",
        "                                weight_decay=WD, nesterov=False)\n",
        "\n",
        "    loss_fn = nn.CrossEntropyLoss()\n",
        "\n",
        "    train(train_dataloader, model, loss_fn, optimizer, EPOCHS)\n",
        "\n",
        "    acc[subject] = test(test_dataloader, model, loss_fn)\n",
        "    print(f\"Subhject {subject+1} Accuracy: {acc[subject]}\")\n",
        "    print(\"-------------------------------\")\n",
        "\n",
        "print(f\"Mean Accuracy: {np.mean(acc)} +- {np.std(acc)}\")"
      ]
    },
    {
      "cell_type": "code",
      "execution_count": null,
      "metadata": {
        "id": "uNRwNSqL4S3f"
      },
      "outputs": [],
      "source": []
    }
  ],
  "metadata": {
    "accelerator": "GPU",
    "colab": {
      "gpuType": "T4",
      "provenance": []
    },
    "kernelspec": {
      "display_name": "Python 3",
      "name": "python3"
    },
    "language_info": {
      "name": "python"
    }
  },
  "nbformat": 4,
  "nbformat_minor": 0
}
